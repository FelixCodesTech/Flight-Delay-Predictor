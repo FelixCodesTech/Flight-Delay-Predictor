{
 "cells": [
  {
   "cell_type": "code",
   "execution_count": 149,
   "id": "805cc648",
   "metadata": {},
   "outputs": [],
   "source": [
    "import pandas as pd\n",
    "from sklearn.tree import DecisionTreeClassifier\n",
    "from sklearn.model_selection import train_test_split\n",
    "from sklearn.metrics import mean_absolute_error"
   ]
  },
  {
   "cell_type": "code",
   "execution_count": 150,
   "id": "fe8ff2fa",
   "metadata": {},
   "outputs": [],
   "source": [
    "flightDataPath = \"airlinesDelay.csv\"\n",
    "flightData = pd.read_csv(flightDataPath)\n",
    "\n",
    "y = flightData.Delayed\n",
    "X = flightData[[\"Time\", \"Length\", \"DayOfWeek\"]]"
   ]
  },
  {
   "cell_type": "code",
   "execution_count": 151,
   "id": "707dff28",
   "metadata": {},
   "outputs": [
    {
     "data": {
      "text/plain": [
       "DecisionTreeClassifier()"
      ]
     },
     "execution_count": 151,
     "metadata": {},
     "output_type": "execute_result"
    }
   ],
   "source": [
    "flightDataModel = DecisionTreeClassifier()\n",
    "flightDataModel.fit(X, y)"
   ]
  },
  {
   "cell_type": "code",
   "execution_count": 152,
   "id": "f0f7a61e",
   "metadata": {},
   "outputs": [
    {
     "name": "stdout",
     "output_type": "stream",
     "text": [
      "My magic Prediction for a Flight that's arriving at  5.5  on the  7 th and flies for  7.0 hours is: It is delayed. 🤷‍♂️\n"
     ]
    },
    {
     "name": "stderr",
     "output_type": "stream",
     "text": [
      "/opt/anaconda3/lib/python3.9/site-packages/sklearn/base.py:450: UserWarning: X does not have valid feature names, but DecisionTreeClassifier was fitted with feature names\n",
      "  warnings.warn(\n"
     ]
    }
   ],
   "source": [
    "inputArrivalTime = 330  #8*60min = 480\n",
    "inputFlightLength = 420 #1*60min = 60 🙃\n",
    "inputDayOfWeek = 7      #Monday ≙ 1\n",
    "\n",
    "prediction = flightDataModel.predict([[inputArrivalTime, inputFlightLength, inputDayOfWeek]])\n",
    "\n",
    "if prediction[0] > 0.5:\n",
    "    print(\"My magic Prediction for a Flight that's arriving at \", round(inputArrivalTime/60, 1), \" on the \", inputDayOfWeek, \"th and flies for \", round(inputFlightLength/60, 1), \"hours is: It is delayed. 🤷‍♂️\")\n",
    "elif prediction[0] < 0.5:\n",
    "    print(\"My magic Prediction for a Flight that's arriving at \", round(inputArrivalTime/60, 1), \" on the \", inputDayOfWeek, \"th day of the week and flies for \", round(inputFlightLength/60, 1), \"hours is: It is on time. 👍\")\n",
    "else:\n",
    "    print(\"My magic Prediction for a Flight that's arriving at \", round(inputArrivalTime/60, 1), \" on the \", inputDayOfWeek, \"th and flies for \", round(inputFlightLength/60, 1), \"hours is: I have no idea... 🧐\")"
   ]
  },
  {
   "cell_type": "code",
   "execution_count": 157,
   "id": "7d618055",
   "metadata": {},
   "outputs": [
    {
     "name": "stdout",
     "output_type": "stream",
     "text": [
      "Average Error:  40.85549441585216 %\n",
      "That means  59.14450558414784 % is correct 👏\n"
     ]
    }
   ],
   "source": [
    "train_X, val_X, train_y, val_y = train_test_split(X, y, random_state=0)\n",
    "\n",
    "flightDataModel = DecisionTreeClassifier()\n",
    "flightDataModel.fit(train_X, train_y)\n",
    "\n",
    "valPredictions = flightDataModel.predict(val_X)\n",
    "print(\"Average Error: \", mean_absolute_error(val_y, valPredictions)*100, \"%\")\n",
    "print(\"That means \", 100 - mean_absolute_error(val_y, valPredictions)*100, \"% is correct 👏\")"
   ]
  }
 ],
 "metadata": {
  "kernelspec": {
   "display_name": "Python 3 (ipykernel)",
   "language": "python",
   "name": "python3"
  },
  "language_info": {
   "codemirror_mode": {
    "name": "ipython",
    "version": 3
   },
   "file_extension": ".py",
   "mimetype": "text/x-python",
   "name": "python",
   "nbconvert_exporter": "python",
   "pygments_lexer": "ipython3",
   "version": "3.9.13"
  }
 },
 "nbformat": 4,
 "nbformat_minor": 5
}
